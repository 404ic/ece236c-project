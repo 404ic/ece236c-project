{
 "cells": [
  {
   "cell_type": "code",
   "execution_count": 422,
   "id": "8757f9f7-54de-4723-b695-8379d6f2249a",
   "metadata": {},
   "outputs": [],
   "source": [
    "import cvxpy as cp\n",
    "import numpy as np\n",
    "import os\n",
    "import pandas as pd\n",
    "import matplotlib.pyplot as plt\n",
    "import time"
   ]
  },
  {
   "cell_type": "code",
   "execution_count": 410,
   "id": "75fc3478-657f-48df-83f7-6c38ca89ac67",
   "metadata": {},
   "outputs": [],
   "source": [
    "def project_onto_density(sigma, rho, gamma, epsilon=1e-9):\n",
    "    theta_min = -np.max(rho) + np.min(sigma)\n",
    "    theta_max = np.max(sigma)\n",
    "    theta_mid = None\n",
    "    while theta_max - theta_min >= epsilon:\n",
    "        theta_mid = (theta_max + theta_min) / 2\n",
    "        rho_t = np.minimum(np.maximum(sigma-theta_mid,0),rho)\n",
    "        if gamma < np.sum(rho_t):\n",
    "            theta_min = theta_mid\n",
    "        else:\n",
    "            theta_max = theta_mid\n",
    "    return np.minimum(np.maximum(sigma-theta_mid,0),rho)\n",
    "\n",
    "def discrete_gradient(Phi, dx):\n",
    "    n = Phi.shape[0]\n",
    "    dPhi_x = (Phi[1:,:] - Phi[:-1,:]) / dx\n",
    "    dPhi_y = (Phi[:,1:] - Phi[:,:-1]) / dx\n",
    "    return dPhi_x, dPhi_y\n",
    "\n",
    "def discrete_div(mx, my, dx):\n",
    "    col0 = np.zeros((n,1))\n",
    "    row0 = np.zeros((1,n))\n",
    "    return (np.vstack((mx,row0))-np.vstack((row0,mx))+np.hstack((my,col0))-np.hstack((col0,my))) / dx\n",
    "\n",
    "def shrink2(X, Y, mu, n):\n",
    "    col0 = np.zeros((n,1))\n",
    "    row0 = np.zeros((1,n))\n",
    "    ghost = np.array([np.vstack((X, row0)), np.hstack((Y, col0))])\n",
    "    norms = np.linalg.norm(ghost, axis=0)\n",
    "    c = np.zeros_like(norms)\n",
    "    for i in range(n):\n",
    "        for j in range(n):\n",
    "            if norms[i,j] >= mu:\n",
    "                c[i,j] = 1-mu/norms[i,j]\n",
    "    y = ghost*c\n",
    "    return y[0,:-1,:], y[1,:,:-1]\n",
    "\n",
    "def objective(mx, my, n):\n",
    "    col0 = np.zeros((n,1))\n",
    "    row0 = np.zeros((1,n))\n",
    "    return np.sum(np.linalg.norm(np.vstack((np.hstack([my, col0]).reshape(1,-1), np.vstack([mx, row0]).reshape(1,-1))),axis=0))\n",
    "\n",
    "def get_feasible(n, dx, gamma, p0, p1):\n",
    "    mx = cp.Variable((n-1,n))\n",
    "    my = cp.Variable((n,n-1))\n",
    "    p0t = cp.Variable((n,n))\n",
    "    p1t = cp.Variable((n,n))\n",
    "    col0 = np.zeros((n,1))\n",
    "    row0 = np.zeros((1,n))\n",
    "\n",
    "    objective = cp.Minimize(1)\n",
    "\n",
    "    # Assumes that p1t has larger mass\n",
    "    constraints = [\n",
    "        dx*(p0t - p1t) == cp.vstack([mx,row0])-cp.vstack([row0,mx])+cp.hstack([my,col0])-cp.hstack([col0,my]),\n",
    "        p0t >= 0,\n",
    "        p0t <= p0,\n",
    "        p1t >= 0,\n",
    "        p1t <= p1,\n",
    "        cp.sum(p0t) == gamma,\n",
    "        cp.sum(p1t) == gamma,\n",
    "    ]\n",
    "    prob = cp.Problem(objective, constraints)\n",
    "    prob_val = prob.solve()\n",
    "    return mx.value, my.value, p0t.value, p1t.value"
   ]
  },
  {
   "cell_type": "code",
   "execution_count": 421,
   "id": "53e92695-4c8f-4a87-b388-42ef2848818c",
   "metadata": {},
   "outputs": [],
   "source": [
    "def solve_with_cvxpy(gamma, p0, p1, n, dx):\n",
    "    mx = cp.Variable((n-1,n))\n",
    "    my = cp.Variable((n,n-1))\n",
    "    p0t = cp.Variable((n,n))\n",
    "    p1t = cp.Variable((n,n))\n",
    "    col0 = np.zeros((n,1))\n",
    "    row0 = np.zeros((1,n))\n",
    "\n",
    "    objective = cp.Minimize(cp.sum(cp.norm(cp.vstack([cp.vec(cp.hstack([my, col0])), cp.vec(cp.vstack([mx, row0]))]),axis=0)))\n",
    "\n",
    "    # Assumes that p1t has larger mass\n",
    "    constraints = [\n",
    "        dx*(p0t - p1t) == cp.vstack([mx,row0])-cp.vstack([row0,mx])+cp.hstack([my,col0])-cp.hstack([col0,my]),\n",
    "        p0t >= 0,\n",
    "        p0t <= p0,\n",
    "        p1t >= 0,\n",
    "        p1t <= p1,\n",
    "        cp.sum(p0t) == gamma,\n",
    "        cp.sum(p1t) == gamma,\n",
    "    ]\n",
    "    prob = cp.Problem(objective, constraints)\n",
    "    prob_val = prob.solve()\n",
    "    return prob_val, p0t.value, p1t.value, mx.value, my.value"
   ]
  },
  {
   "cell_type": "code",
   "execution_count": 431,
   "id": "2d211198-3b80-41b6-aa1a-355423b9f6e2",
   "metadata": {},
   "outputs": [],
   "source": [
    "def solve(rho0, rho1, gamma, rho00_t, rho10_t, m0, Phi0, dx, mu, nu, tau, n, eps=1e-10):\n",
    "    start = time.time()\n",
    "    m_list = [m0]\n",
    "    rho0_t_list = [rho00_t]\n",
    "    rho1_t_list = [rho10_t]\n",
    "    Phi_list = [Phi0]\n",
    "    objectives = []\n",
    "    ct = 0\n",
    "    while True:\n",
    "        objectives.append(objective(m_list[-1][0], m_list[-1][1], n))\n",
    "        if len(objectives) >= 2:\n",
    "            if (np.abs(objectives[-1] - objectives[-2]) < eps):\n",
    "                print(\"Iteration\", ct, \"Converged with objective value\", objectives[-1])\n",
    "                break\n",
    "            elif ct % 1000 == 0:\n",
    "                print(\"Iteration\", ct, \"Objective value is\", objectives[-1])\n",
    "            if ct >= 5e4:\n",
    "                print(\"Stop\")\n",
    "                break\n",
    "        ct += 1\n",
    "        dPhi_x, dPhi_y = discrete_gradient(Phi_list[-1], dx)\n",
    "        mx_next, my_next = shrink2(m_list[-1][0]+mu*dPhi_x, m_list[-1][1]+mu*dPhi_y, mu, n)\n",
    "        rho0_t_next = project_onto_density(rho0_t_list[-1]+nu*Phi_list[-1], rho0, gamma)\n",
    "        rho1_t_next = project_onto_density(rho1_t_list[-1]-nu*Phi_list[-1], rho1, gamma)\n",
    "        Phi_next = Phi_list[-1] + tau*(\n",
    "            discrete_div(2*mx_next - m_list[-1][0], 2*my_next - m_list[-1][1], dx)\n",
    "             + 2*rho1_t_next - rho1_t_list[-1]\n",
    "             - 2*rho0_t_next + rho0_t_list[-1]\n",
    "        )\n",
    "        m_list.append((mx_next, my_next))\n",
    "        rho0_t_list.append(rho0_t_next)\n",
    "        rho1_t_list.append(rho1_t_next)\n",
    "        Phi_list.append(Phi_next)\n",
    "    end = time.time()\n",
    "    return m_list, rho0_t_list, rho1_t_list, Phi_list, objectives, end-start, ct"
   ]
  },
  {
   "cell_type": "code",
   "execution_count": 424,
   "id": "0f34fb24-3fda-4eb5-afba-c8fdc1eeeb7b",
   "metadata": {},
   "outputs": [],
   "source": [
    "import gzip\n",
    "f = gzip.open('train-images-idx3-ubyte.gz','r')\n",
    "\n",
    "image_size = 28\n",
    "num_images = 100\n",
    "\n",
    "f.read(16)\n",
    "buf = f.read(image_size * image_size * num_images)\n",
    "data = np.frombuffer(buf, dtype=np.uint8).astype(np.float32)\n",
    "data = data.reshape(num_images, image_size, image_size, 1)\n",
    "image = np.asarray(data[4]).squeeze()\n",
    "# plt.imshow(image)"
   ]
  },
  {
   "cell_type": "code",
   "execution_count": 425,
   "id": "3460d635-2517-4142-afef-54e5dcaed404",
   "metadata": {},
   "outputs": [
    {
     "name": "stdout",
     "output_type": "stream",
     "text": [
      "1.0 0.8433788\n"
     ]
    }
   ],
   "source": [
    "# 3 and 8 are both 1s\n",
    "rho1 = np.asarray(data[0]).squeeze()\n",
    "rho0 = np.asarray(data[4]).squeeze()\n",
    "assert np.sum(rho1) >= np.sum(rho0)\n",
    "norm_factor = max(np.sum(rho1), np.sum(rho0))\n",
    "rho1 = rho1 / norm_factor\n",
    "rho0 = rho0 / norm_factor\n",
    "print(np.sum(rho1), np.sum(rho0))"
   ]
  },
  {
   "cell_type": "code",
   "execution_count": 426,
   "id": "950d3836-189e-4cb3-9d68-44ef80d7cda4",
   "metadata": {},
   "outputs": [],
   "source": [
    "n = 28\n",
    "dx = 1/(n - 1)\n",
    "tau = 1e-2\n",
    "gamma = 0.7\n",
    "nu = 1/(4*tau)\n",
    "mu = 1/(32*(n-1)**2*tau)"
   ]
  },
  {
   "cell_type": "code",
   "execution_count": 427,
   "id": "8b4833c1-8d5e-4624-b5c1-1d3f57d27e55",
   "metadata": {},
   "outputs": [],
   "source": [
    "# mx, my, rho00t, rho10t = get_feasible(n, dx, gamma, rho0, rho1)\n",
    "mx = np.random.normal(size=(n-1,n))\n",
    "my = np.random.normal(size=(n,n-1))\n",
    "rho0t = np.random.normal(size=(n,n))\n",
    "rho1t = np.random.normal(size=(n,n))"
   ]
  },
  {
   "cell_type": "code",
   "execution_count": 432,
   "id": "ea87c0b8-0242-47ec-8279-661c66ae0290",
   "metadata": {},
   "outputs": [
    {
     "name": "stdout",
     "output_type": "stream",
     "text": [
      "Iteration 1000 Objective value is 0.0011489816732225826\n",
      "Iteration 2000 Objective value is 0.002274969583461343\n",
      "Iteration 3000 Objective value is 0.002732268514063844\n",
      "Iteration 4000 Objective value is 0.003106916062563242\n",
      "Iteration 5000 Objective value is 0.0032976730478180573\n",
      "Iteration 6000 Objective value is 0.003426564025503217\n",
      "Iteration 7000 Objective value is 0.0036739324981070252\n",
      "Iteration 8000 Objective value is 0.0039037285413128344\n",
      "Iteration 9000 Objective value is 0.003940165505885789\n",
      "Iteration 10000 Objective value is 0.003961088995428322\n",
      "Iteration 11000 Objective value is 0.003977338878198891\n",
      "Iteration 12000 Objective value is 0.004009080432500325\n",
      "Iteration 13000 Objective value is 0.004021085113062527\n",
      "Iteration 14000 Objective value is 0.004036644634624982\n",
      "Iteration 15000 Objective value is 0.004048003186891869\n",
      "Iteration 16000 Objective value is 0.004062008154927512\n",
      "Iteration 17000 Objective value is 0.0040690221671839735\n",
      "Iteration 18000 Objective value is 0.004075689665217857\n",
      "Iteration 18010 Converged with objective value 0.00407571450659797\n"
     ]
    }
   ],
   "source": [
    "m, rho0t, rho1t, Phi, objs, solve_time, num_iters = solve(rho0, rho1, gamma, rho00t, rho10t, (mx, my), np.random.normal(size=(n,n)), dx, mu, nu, tau, n, eps=1e-12)"
   ]
  },
  {
   "cell_type": "code",
   "execution_count": 417,
   "id": "fdace931-0266-47c3-a95b-766cb18c716d",
   "metadata": {},
   "outputs": [
    {
     "data": {
      "text/plain": [
       "[<matplotlib.lines.Line2D at 0x7fb1478443d0>]"
      ]
     },
     "execution_count": 417,
     "metadata": {},
     "output_type": "execute_result"
    },
    {
     "data": {
      "image/png": "[encoded data removed]",
      "text/plain": [
       "<Figure size 432x288 with 1 Axes>"
      ]
     },
     "metadata": {
      "needs_background": "light"
     },
     "output_type": "display_data"
    }
   ],
   "source": [
    "plt.plot((np.array([np.sum(np.abs((rho0t[i]-rho1t[i])-discrete_div(m[i][0],m[i][1],dx))) for i in range(len(rho0t))]))[1000:])"
   ]
  },
  {
   "cell_type": "code",
   "execution_count": 418,
   "id": "32f85828-7168-41d6-a372-17379c54ccb7",
   "metadata": {},
   "outputs": [
    {
     "data": {
      "text/plain": [
       "[<matplotlib.lines.Line2D at 0x7fb140539be0>]"
      ]
     },
     "execution_count": 418,
     "metadata": {},
     "output_type": "execute_result"
    },
    {
     "data": {
      "image/png": "[encoded data removed]",
      "text/plain": [
       "<Figure size 432x288 with 1 Axes>"
      ]
     },
     "metadata": {
      "needs_background": "light"
     },
     "output_type": "display_data"
    }
   ],
   "source": [
    "plt.plot(objs[1000:])"
   ]
  }
 ],
 "metadata": {
  "kernelspec": {
   "display_name": "Python 3",
   "language": "python",
   "name": "python3"
  },
  "language_info": {
   "codemirror_mode": {
    "name": "ipython",
    "version": 3
   },
   "file_extension": ".py",
   "mimetype": "text/x-python",
   "name": "python",
   "nbconvert_exporter": "python",
   "pygments_lexer": "ipython3",
   "version": "3.8.8"
  }
 },
 "nbformat": 4,
 "nbformat_minor": 5
}
