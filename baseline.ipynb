{
 "cells": [
  {
   "cell_type": "code",
   "execution_count": 20,
   "id": "0771da29-8864-4ea0-adf5-641daaaf92f7",
   "metadata": {},
   "outputs": [],
   "source": [
    "import cvxpy as cp\n",
    "import numpy as np\n",
    "import os\n",
    "import pandas as pd\n",
    "import matplotlib.pyplot as plt"
   ]
  },
  {
   "cell_type": "code",
   "execution_count": 22,
   "id": "f3483264-8b30-4225-826c-f68c0f96d8f8",
   "metadata": {},
   "outputs": [],
   "source": [
    "import gzip\n",
    "f = gzip.open('train-images-idx3-ubyte.gz','r')\n",
    "\n",
    "image_size = 28\n",
    "num_images = 100\n",
    "\n",
    "f.read(16)\n",
    "buf = f.read(image_size * image_size * num_images)\n",
    "data = np.frombuffer(buf, dtype=np.uint8).astype(np.float32)\n",
    "data = data.reshape(num_images, image_size, image_size, 1)\n",
    "image = np.asarray(data[0]).squeeze()"
   ]
  },
  {
   "cell_type": "code",
   "execution_count": 23,
   "id": "b51b0b78-5440-4aa1-b870-5bf7569f5ce7",
   "metadata": {},
   "outputs": [
    {
     "name": "stdout",
     "output_type": "stream",
     "text": [
      "1.0 0.8433788\n"
     ]
    }
   ],
   "source": [
    "# 3 and 8 are both 1s\n",
    "p1 = np.asarray(data[0]).squeeze()\n",
    "p0 = np.asarray(data[4]).squeeze()\n",
    "assert np.sum(p1) >= np.sum(p0)\n",
    "norm_factor = max(np.sum(p1), np.sum(p0))\n",
    "p1 = p1 / norm_factor\n",
    "p0 = p0 / norm_factor\n",
    "print(np.sum(p1), np.sum(p0))"
   ]
  },
  {
   "cell_type": "code",
   "execution_count": 24,
   "id": "ef9d624f-ac2a-4f7c-90c9-4064f1e9d985",
   "metadata": {},
   "outputs": [],
   "source": [
    "n = 28\n",
    "dx = 1/(n-1)\n",
    "gamma = 0.7\n",
    "\n",
    "mx = cp.Variable((n-1,n))\n",
    "my = cp.Variable((n,n-1))\n",
    "p0t = cp.Variable((n,n))\n",
    "p1t = cp.Variable((n,n))\n",
    "col0 = np.zeros((n,1))\n",
    "row0 = np.zeros((1,n))\n",
    "\n",
    "objective = cp.Minimize(cp.sum(cp.norm(cp.vstack([cp.vec(cp.hstack([my, col0])), cp.vec(cp.vstack([mx, row0]))]),axis=0)))\n",
    "\n",
    "# Assumes that p1t has larger mass\n",
    "constraints = [\n",
    "    dx*(p0t - p1t) == cp.vstack([mx,row0])-cp.vstack([row0,mx])+cp.hstack([my,col0])-cp.hstack([col0,my]),\n",
    "    p0t >= 0,\n",
    "    p0t <= p0,\n",
    "    p1t >= 0,\n",
    "    p1t <= p1,\n",
    "    cp.sum(p0t) == gamma,\n",
    "    cp.sum(p1t) == gamma,\n",
    "]"
   ]
  },
  {
   "cell_type": "code",
   "execution_count": 25,
   "id": "1159edb2-b63d-415b-b646-2282f1167f67",
   "metadata": {},
   "outputs": [
    {
     "data": {
      "text/plain": [
       "0.046338761189318296"
      ]
     },
     "execution_count": 25,
     "metadata": {},
     "output_type": "execute_result"
    }
   ],
   "source": [
    "prob = cp.Problem(objective, constraints)\n",
    "prob.solve()"
   ]
  },
  {
   "cell_type": "code",
   "execution_count": 26,
   "id": "9058f9d8-9bb5-4aba-b55f-1cb84e6da0cc",
   "metadata": {},
   "outputs": [
    {
     "data": {
      "text/plain": [
       "<matplotlib.image.AxesImage at 0x7fabaaaed160>"
      ]
     },
     "execution_count": 26,
     "metadata": {},
     "output_type": "execute_result"
    },
    {
     "data": {
      "image/png": "[encoded data removed]",
      "text/plain": [
       "<Figure size 432x288 with 1 Axes>"
      ]
     },
     "metadata": {
      "needs_background": "light"
     },
     "output_type": "display_data"
    }
   ],
   "source": [
    "plt.imshow(p1t.value)"
   ]
  },
  {
   "cell_type": "code",
   "execution_count": 27,
   "id": "4fb0104f-d5d3-423d-a921-31247c1e8f9f",
   "metadata": {},
   "outputs": [
    {
     "data": {
      "text/plain": [
       "<matplotlib.image.AxesImage at 0x7fabaab389d0>"
      ]
     },
     "execution_count": 27,
     "metadata": {},
     "output_type": "execute_result"
    },
    {
     "data": {
      "image/png": "[encoded data removed]",
      "text/plain": [
       "<Figure size 432x288 with 1 Axes>"
      ]
     },
     "metadata": {
      "needs_background": "light"
     },
     "output_type": "display_data"
    }
   ],
   "source": [
    "plt.imshow(p0t.value)"
   ]
  },
  {
   "cell_type": "code",
   "execution_count": 28,
   "id": "99cd1c4e-ddfa-4046-80e5-f52a05103603",
   "metadata": {},
   "outputs": [],
   "source": [
    "def solve_PMK(gamma, p0, p1):\n",
    "    n = 28\n",
    "    dx = 1\n",
    "\n",
    "    mx = cp.Variable((n-1,n))\n",
    "    my = cp.Variable((n,n-1))\n",
    "    p0t = cp.Variable((n,n))\n",
    "    p1t = cp.Variable((n,n))\n",
    "    col0 = np.zeros((n,1))\n",
    "    row0 = np.zeros((1,n))\n",
    "\n",
    "    objective = cp.Minimize(cp.sum(cp.norm(cp.vstack([cp.vec(cp.hstack([my, col0])), cp.vec(cp.vstack([mx, row0]))]),axis=0)))\n",
    "\n",
    "    # Assumes that p1t has larger mass\n",
    "    constraints = [\n",
    "        dx*(p0t - p1t) == cp.vstack([mx,row0])-cp.vstack([row0,mx])+cp.hstack([my,col0])-cp.hstack([col0,my]),\n",
    "        p0t >= 0,\n",
    "        p0t <= p0,\n",
    "        p1t >= 0,\n",
    "        p1t <= p1,\n",
    "        cp.sum(p0t) == gamma,\n",
    "        cp.sum(p1t) == gamma,\n",
    "    ]\n",
    "    prob = cp.Problem(objective, constraints)\n",
    "    prob_val = prob.solve()\n",
    "    return prob_val, p0t.value, p1t.value, mx.value, my.value"
   ]
  },
  {
   "cell_type": "code",
   "execution_count": 29,
   "id": "bc79eed6-8482-4a5a-9e34-fd2ae1397d8e",
   "metadata": {},
   "outputs": [
    {
     "name": "stdout",
     "output_type": "stream",
     "text": [
      "Solving problem for 0.0\n",
      "Solving problem for 0.044335725382754675\n",
      "Solving problem for 0.08867145076550935\n",
      "Solving problem for 0.13300717614826402\n",
      "Solving problem for 0.1773429015310187\n",
      "Solving problem for 0.22167862691377338\n",
      "Solving problem for 0.26601435229652803\n",
      "Solving problem for 0.31035007767928274\n",
      "Solving problem for 0.3546858030620374\n",
      "Solving problem for 0.39902152844479205\n",
      "Solving problem for 0.44335725382754676\n",
      "Solving problem for 0.4876929792103014\n",
      "Solving problem for 0.5320287045930561\n",
      "Solving problem for 0.5763644299758107\n",
      "Solving problem for 0.6207001553585655\n",
      "Solving problem for 0.6650358807413201\n",
      "Solving problem for 0.7093716061240748\n",
      "Solving problem for 0.7537073315068294\n",
      "Solving problem for 0.7980430568895841\n",
      "Solving problem for 0.8423787822723389\n"
     ]
    }
   ],
   "source": [
    "gammas = np.linspace(0, np.sum(p0)-0.001, num=20)\n",
    "p_gammas = []\n",
    "for gamma in gammas:\n",
    "    print(\"Solving problem for\", gamma)\n",
    "    m, _, _, _, _ = solve_PMK(gamma, p0, p1)\n",
    "    p_gammas.append(m)"
   ]
  },
  {
   "cell_type": "code",
   "execution_count": 30,
   "id": "0649b829-bc22-48aa-97d7-a5ac541640e5",
   "metadata": {},
   "outputs": [
    {
     "data": {
      "text/plain": [
       "[<matplotlib.lines.Line2D at 0x7fabab0c9be0>]"
      ]
     },
     "execution_count": 30,
     "metadata": {},
     "output_type": "execute_result"
    },
    {
     "data": {
      "image/png": "[encoded data removed]",
      "text/plain": [
       "<Figure size 432x288 with 1 Axes>"
      ]
     },
     "metadata": {
      "needs_background": "light"
     },
     "output_type": "display_data"
    }
   ],
   "source": [
    "plt.plot(gammas, p_gammas)"
   ]
  }
 ],
 "metadata": {
  "kernelspec": {
   "display_name": "Python 3",
   "language": "python",
   "name": "python3"
  },
  "language_info": {
   "codemirror_mode": {
    "name": "ipython",
    "version": 3
   },
   "file_extension": ".py",
   "mimetype": "text/x-python",
   "name": "python",
   "nbconvert_exporter": "python",
   "pygments_lexer": "ipython3",
   "version": "3.8.8"
  }
 },
 "nbformat": 4,
 "nbformat_minor": 5
}
