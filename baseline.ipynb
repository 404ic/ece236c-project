{
 "cells": [
  {
   "cell_type": "code",
   "execution_count": 2,
   "id": "0771da29-8864-4ea0-adf5-641daaaf92f7",
   "metadata": {},
   "outputs": [],
   "source": [
    "import cvxpy as cp\n",
    "import numpy as np\n",
    "import os\n",
    "import pandas as pd\n",
    "import matplotlib.pyplot as plt"
   ]
  },
  {
   "cell_type": "code",
   "execution_count": 5,
   "id": "f3483264-8b30-4225-826c-f68c0f96d8f8",
   "metadata": {},
   "outputs": [
    {
     "data": {
      "text/plain": [
       "<matplotlib.image.AxesImage at 0x7fabaa74c790>"
      ]
     },
     "execution_count": 5,
     "metadata": {},
     "output_type": "execute_result"
    },
    {
     "data": {
      "image/png": "[encoded data removed]",
      "text/plain": [
       "<Figure size 432x288 with 1 Axes>"
      ]
     },
     "metadata": {
      "needs_background": "light"
     },
     "output_type": "display_data"
    }
   ],
   "source": [
    "import gzip\n",
    "f = gzip.open('train-images-idx3-ubyte.gz','r')\n",
    "\n",
    "image_size = 28\n",
    "num_images = 100\n",
    "\n",
    "f.read(16)\n",
    "buf = f.read(image_size * image_size * num_images)\n",
    "data = np.frombuffer(buf, dtype=np.uint8).astype(np.float32)\n",
    "data = data.reshape(num_images, image_size, image_size, 1)\n",
    "image = np.asarray(data[]).squeeze()\n",
    "plt.imshow(image)"
   ]
  },
  {
   "cell_type": "code",
   "execution_count": 6,
   "id": "b51b0b78-5440-4aa1-b870-5bf7569f5ce7",
   "metadata": {},
   "outputs": [
    {
     "name": "stdout",
     "output_type": "stream",
     "text": [
      "1.0 0.8433788\n"
     ]
    }
   ],
   "source": [
    "# 3 and 8 are both 1s\n",
    "p1 = np.asarray(data[0]).squeeze()\n",
    "p0 = np.asarray(data[4]).squeeze()\n",
    "assert np.sum(p1) >= np.sum(p0)\n",
    "norm_factor = max(np.sum(p1), np.sum(p0))\n",
    "p1 = p1 / norm_factor\n",
    "p0 = p0 / norm_factor\n",
    "print(np.sum(p1), np.sum(p0))"
   ]
  },
  {
   "cell_type": "code",
   "execution_count": 478,
   "id": "035d647e-89b3-45f3-8ea3-9639fd54cc96",
   "metadata": {},
   "outputs": [],
   "source": [
    "def ddiv(a, b):\n",
    "    n = 28\n",
    "    dx = 1\n",
    "    col0 = np.zeros((n,1))\n",
    "    row0 = np.zeros((1,n))\n",
    "    divm = np.zeros((n,n))\n",
    "    for i in range(n):\n",
    "        for j in range(n):\n",
    "            if i < n-1:\n",
    "                divm[i,j] += a[i,j]\n",
    "            if j < n-1:\n",
    "                divm[i,j] += b[i,j]\n",
    "            if i > 0:\n",
    "                divm[i,j] -= a[i-1,j]\n",
    "            if j > 0:\n",
    "                divm[i,j] -= b[i,j-1]\n",
    "            divm[i,j] /= dx\n",
    "    return divm"
   ]
  },
  {
   "cell_type": "code",
   "execution_count": 7,
   "id": "ef9d624f-ac2a-4f7c-90c9-4064f1e9d985",
   "metadata": {},
   "outputs": [],
   "source": [
    "n = 28\n",
    "dx = 1/(n-1)\n",
    "gamma = 0.7\n",
    "\n",
    "mx = cp.Variable((n-1,n))\n",
    "my = cp.Variable((n,n-1))\n",
    "p0t = cp.Variable((n,n))\n",
    "p1t = cp.Variable((n,n))\n",
    "col0 = np.zeros((n,1))\n",
    "row0 = np.zeros((1,n))\n",
    "\n",
    "objective = cp.Minimize(cp.sum(cp.norm(cp.vstack([cp.vec(cp.hstack([my, col0])), cp.vec(cp.vstack([mx, row0]))]),axis=0)))\n",
    "\n",
    "# Assumes that p1t has larger mass\n",
    "constraints = [\n",
    "    dx*(p0t - p1t) == cp.vstack([mx,row0])-cp.vstack([row0,mx])+cp.hstack([my,col0])-cp.hstack([col0,my]),\n",
    "    p0t >= 0,\n",
    "    p0t <= p0,\n",
    "    p1t >= 0,\n",
    "    p1t <= p1,\n",
    "    cp.sum(p0t) == gamma,\n",
    "    cp.sum(p1t) == gamma,\n",
    "]"
   ]
  },
  {
   "cell_type": "code",
   "execution_count": 10,
   "id": "1159edb2-b63d-415b-b646-2282f1167f67",
   "metadata": {},
   "outputs": [
    {
     "data": {
      "text/plain": [
       "0.046338761189318296"
      ]
     },
     "execution_count": 10,
     "metadata": {},
     "output_type": "execute_result"
    }
   ],
   "source": [
    "prob = cp.Problem(objective, constraints)\n",
    "prob.solve()"
   ]
  },
  {
   "cell_type": "code",
   "execution_count": 11,
   "id": "cc99be27-da04-43ff-90e7-e09bd7273304",
   "metadata": {},
   "outputs": [
    {
     "data": {
      "text/plain": [
       "0.0029945542241379313"
      ]
     },
     "execution_count": 11,
     "metadata": {},
     "output_type": "execute_result"
    }
   ],
   "source": [
    "prob.solver_stats.solve_time/prob.solver_stats.num_iters"
   ]
  },
  {
   "cell_type": "code",
   "execution_count": 12,
   "id": "9058f9d8-9bb5-4aba-b55f-1cb84e6da0cc",
   "metadata": {},
   "outputs": [
    {
     "data": {
      "text/plain": [
       "<matplotlib.image.AxesImage at 0x7fabaa99c5e0>"
      ]
     },
     "execution_count": 12,
     "metadata": {},
     "output_type": "execute_result"
    },
    {
     "data": {
      "image/png": "[encoded data removed]",
      "text/plain": [
       "<Figure size 432x288 with 1 Axes>"
      ]
     },
     "metadata": {
      "needs_background": "light"
     },
     "output_type": "display_data"
    }
   ],
   "source": [
    "plt.imshow(p1t.value)"
   ]
  },
  {
   "cell_type": "code",
   "execution_count": 13,
   "id": "4fb0104f-d5d3-423d-a921-31247c1e8f9f",
   "metadata": {},
   "outputs": [
    {
     "data": {
      "text/plain": [
       "<matplotlib.image.AxesImage at 0x7fabaabf5ac0>"
      ]
     },
     "execution_count": 13,
     "metadata": {},
     "output_type": "execute_result"
    },
    {
     "data": {
      "image/png": "[encoded data removed]",
      "text/plain": [
       "<Figure size 432x288 with 1 Axes>"
      ]
     },
     "metadata": {
      "needs_background": "light"
     },
     "output_type": "display_data"
    }
   ],
   "source": [
    "plt.imshow(p0t.value)"
   ]
  },
  {
   "cell_type": "code",
   "execution_count": 620,
   "id": "99cd1c4e-ddfa-4046-80e5-f52a05103603",
   "metadata": {},
   "outputs": [],
   "source": [
    "def solve_PMK(gamma, p0, p1):\n",
    "    n = 28\n",
    "    dx = 1\n",
    "\n",
    "    mx = cp.Variable((n-1,n))\n",
    "    my = cp.Variable((n,n-1))\n",
    "    p0t = cp.Variable((n,n))\n",
    "    p1t = cp.Variable((n,n))\n",
    "    col0 = np.zeros((n,1))\n",
    "    row0 = np.zeros((1,n))\n",
    "\n",
    "    objective = cp.Minimize(cp.sum(cp.norm(cp.vstack([cp.vec(cp.hstack([my, col0])), cp.vec(cp.vstack([mx, row0]))]),axis=0)))\n",
    "\n",
    "    # Assumes that p1t has larger mass\n",
    "    constraints = [\n",
    "        dx*(p0t - p1t) == cp.vstack([mx,row0])-cp.vstack([row0,mx])+cp.hstack([my,col0])-cp.hstack([col0,my]),\n",
    "        p0t >= 0,\n",
    "        p0t <= p0,\n",
    "        p1t >= 0,\n",
    "        p1t <= p1,\n",
    "        cp.sum(p0t) == gamma,\n",
    "        cp.sum(p1t) == gamma,\n",
    "    ]\n",
    "    prob = cp.Problem(objective, constraints)\n",
    "    prob_val = prob.solve()\n",
    "    return prob_val, p0t.value, p1t.value, mx.value, my.value"
   ]
  },
  {
   "cell_type": "code",
   "execution_count": 760,
   "id": "bc79eed6-8482-4a5a-9e34-fd2ae1397d8e",
   "metadata": {},
   "outputs": [
    {
     "name": "stdout",
     "output_type": "stream",
     "text": [
      "Solving problem for 0.0\n",
      "Solving problem for 0.03546326971054077\n",
      "Solving problem for 0.07092653942108154\n",
      "Solving problem for 0.10638980913162231\n",
      "Solving problem for 0.14185307884216308\n",
      "Solving problem for 0.17731634855270384\n",
      "Solving problem for 0.21277961826324462\n",
      "Solving problem for 0.2482428879737854\n",
      "Solving problem for 0.28370615768432617\n",
      "Solving problem for 0.3191694273948669\n",
      "Solving problem for 0.3546326971054077\n",
      "Solving problem for 0.3900959668159485\n",
      "Solving problem for 0.42555923652648925\n",
      "Solving problem for 0.46102250623703\n"
     ]
    },
    {
     "name": "stderr",
     "output_type": "stream",
     "text": [
      "/opt/anaconda3/lib/python3.8/site-packages/cvxpy/problems/problem.py:1296: UserWarning: Solution may be inaccurate. Try another solver, adjusting the solver settings, or solve with verbose=True for more information.\n",
      "  warnings.warn(\n"
     ]
    },
    {
     "name": "stdout",
     "output_type": "stream",
     "text": [
      "Solving problem for 0.4964857759475708\n",
      "Solving problem for 0.5319490456581115\n",
      "Solving problem for 0.5674123153686523\n",
      "Solving problem for 0.6028755850791931\n",
      "Solving problem for 0.6383388547897338\n",
      "Solving problem for 0.6738021245002747\n"
     ]
    }
   ],
   "source": [
    "gammas = np.linspace(0, np.sum(p0)-0.001, num=20)\n",
    "p_gammas = []\n",
    "for gamma in gammas:\n",
    "    print(\"Solving problem for\", gamma)\n",
    "    m, _, _, _, _ = solve_PMK(gamma, p0, p1)\n",
    "    p_gammas.append(m)"
   ]
  },
  {
   "cell_type": "code",
   "execution_count": 761,
   "id": "0649b829-bc22-48aa-97d7-a5ac541640e5",
   "metadata": {},
   "outputs": [
    {
     "data": {
      "text/plain": [
       "[<matplotlib.lines.Line2D at 0x7f905cf5d160>]"
      ]
     },
     "execution_count": 761,
     "metadata": {},
     "output_type": "execute_result"
    },
    {
     "data": {
      "image/png": "[encoded data removed]",
      "text/plain": [
       "<Figure size 432x288 with 1 Axes>"
      ]
     },
     "metadata": {
      "needs_background": "light"
     },
     "output_type": "display_data"
    }
   ],
   "source": [
    "plt.plot(gammas, p_gammas)"
   ]
  },
  {
   "cell_type": "code",
   "execution_count": 711,
   "id": "581640c7-14cc-4735-8c64-27eb165b77e1",
   "metadata": {},
   "outputs": [],
   "source": [
    "def objective(mx, my, n):\n",
    "    col0 = np.zeros((n,1))\n",
    "    row0 = np.zeros((1,n))\n",
    "    return np.sum(np.linalg.norm(np.vstack((np.hstack((my, col0)).T.flatten(), np.vstack((mx, row0)).T.flatten())),axis=0))"
   ]
  },
  {
   "cell_type": "code",
   "execution_count": 713,
   "id": "7e8cc87d-1cb7-4183-8def-e21ae9258eda",
   "metadata": {},
   "outputs": [
    {
     "data": {
      "text/plain": [
       "0.02592582013075749"
      ]
     },
     "execution_count": 713,
     "metadata": {},
     "output_type": "execute_result"
    }
   ],
   "source": [
    "objective(mx.value, my.value, 28)"
   ]
  },
  {
   "cell_type": "code",
   "execution_count": 714,
   "id": "4c6bd9ef-3e1e-44d3-8ad7-91932811fee5",
   "metadata": {},
   "outputs": [
    {
     "data": {
      "text/plain": [
       "0.02592582013075749"
      ]
     },
     "execution_count": 714,
     "metadata": {},
     "output_type": "execute_result"
    }
   ],
   "source": [
    "cp.sum(cp.norm(cp.vstack([cp.vec(cp.hstack([my, col0])), cp.vec(cp.vstack([mx, row0]))]),axis=0)).value"
   ]
  },
  {
   "cell_type": "code",
   "execution_count": 708,
   "id": "696a2ecd-37ce-4d2f-973c-923c59397a3d",
   "metadata": {},
   "outputs": [],
   "source": [
    "np.vstack((mx.value, row0)).T.flatten()-cp.vec(cp.vstack([mx, row0])).value\n",
    "None"
   ]
  },
  {
   "cell_type": "code",
   "execution_count": 709,
   "id": "8dd0d8f3-020b-4470-8ef7-0403d234005b",
   "metadata": {},
   "outputs": [],
   "source": [
    "cp.vec(cp.vstack([mx, row0])).value\n",
    "None"
   ]
  },
  {
   "cell_type": "code",
   "execution_count": 715,
   "id": "270d2385-1d9c-4100-9fb5-0f64288d1c03",
   "metadata": {},
   "outputs": [],
   "source": [
    "def discrete_div(mx, my, dx):\n",
    "    col0 = np.zeros((n,1))\n",
    "    row0 = np.zeros((1,n))\n",
    "    return (np.vstack((mx,row0))-np.vstack((row0,mx))+np.hstack((my,col0))-np.hstack((col0,my))) / dx"
   ]
  },
  {
   "cell_type": "code",
   "execution_count": 728,
   "id": "ddcc15cb-17a1-4661-b035-43ed5d7d2895",
   "metadata": {},
   "outputs": [
    {
     "data": {
      "text/plain": [
       "array([[0., 0., 0., 0., 0., 0., 0., 0., 0., 0., 0., 0., 0., 0., 0., 0.,\n",
       "        0., 0., 0., 0., 0., 0., 0., 0., 0., 0., 0., 0.],\n",
       "       [0., 0., 0., 0., 0., 0., 0., 0., 0., 0., 0., 0., 0., 0., 0., 0.,\n",
       "        0., 0., 0., 0., 0., 0., 0., 0., 0., 0., 0., 0.],\n",
       "       [0., 0., 0., 0., 0., 0., 0., 0., 0., 0., 0., 0., 0., 0., 0., 0.,\n",
       "        0., 0., 0., 0., 0., 0., 0., 0., 0., 0., 0., 0.],\n",
       "       [0., 0., 0., 0., 0., 0., 0., 0., 0., 0., 0., 0., 0., 0., 0., 0.,\n",
       "        0., 0., 0., 0., 0., 0., 0., 0., 0., 0., 0., 0.],\n",
       "       [0., 0., 0., 0., 0., 0., 0., 0., 0., 0., 0., 0., 0., 0., 0., 0.,\n",
       "        0., 0., 0., 0., 0., 0., 0., 0., 0., 0., 0., 0.],\n",
       "       [0., 0., 0., 0., 0., 0., 0., 0., 0., 0., 0., 0., 0., 0., 0., 0.,\n",
       "        0., 0., 0., 0., 0., 0., 0., 0., 0., 0., 0., 0.],\n",
       "       [0., 0., 0., 0., 0., 0., 0., 0., 0., 0., 0., 0., 0., 0., 0., 0.,\n",
       "        0., 0., 0., 0., 0., 0., 0., 0., 0., 0., 0., 0.],\n",
       "       [0., 0., 0., 0., 0., 0., 0., 0., 0., 0., 0., 0., 0., 0., 0., 0.,\n",
       "        0., 0., 0., 0., 0., 0., 0., 0., 0., 0., 0., 0.],\n",
       "       [0., 0., 0., 0., 0., 0., 0., 0., 0., 0., 0., 0., 0., 0., 0., 0.,\n",
       "        0., 0., 0., 0., 0., 0., 0., 0., 0., 0., 0., 0.],\n",
       "       [0., 0., 0., 0., 0., 0., 0., 0., 0., 0., 0., 0., 0., 0., 0., 0.,\n",
       "        0., 0., 0., 0., 0., 0., 0., 0., 0., 0., 0., 0.],\n",
       "       [0., 0., 0., 0., 0., 0., 0., 0., 0., 0., 0., 0., 0., 0., 0., 0.,\n",
       "        0., 0., 0., 0., 0., 0., 0., 0., 0., 0., 0., 0.],\n",
       "       [0., 0., 0., 0., 0., 0., 0., 0., 0., 0., 0., 0., 0., 0., 0., 0.,\n",
       "        0., 0., 0., 0., 0., 0., 0., 0., 0., 0., 0., 0.],\n",
       "       [0., 0., 0., 0., 0., 0., 0., 0., 0., 0., 0., 0., 0., 0., 0., 0.,\n",
       "        0., 0., 0., 0., 0., 0., 0., 0., 0., 0., 0., 0.],\n",
       "       [0., 0., 0., 0., 0., 0., 0., 0., 0., 0., 0., 0., 0., 0., 0., 0.,\n",
       "        0., 0., 0., 0., 0., 0., 0., 0., 0., 0., 0., 0.],\n",
       "       [0., 0., 0., 0., 0., 0., 0., 0., 0., 0., 0., 0., 0., 0., 0., 0.,\n",
       "        0., 0., 0., 0., 0., 0., 0., 0., 0., 0., 0., 0.],\n",
       "       [0., 0., 0., 0., 0., 0., 0., 0., 0., 0., 0., 0., 0., 0., 0., 0.,\n",
       "        0., 0., 0., 0., 0., 0., 0., 0., 0., 0., 0., 0.],\n",
       "       [0., 0., 0., 0., 0., 0., 0., 0., 0., 0., 0., 0., 0., 0., 0., 0.,\n",
       "        0., 0., 0., 0., 0., 0., 0., 0., 0., 0., 0., 0.],\n",
       "       [0., 0., 0., 0., 0., 0., 0., 0., 0., 0., 0., 0., 0., 0., 0., 0.,\n",
       "        0., 0., 0., 0., 0., 0., 0., 0., 0., 0., 0., 0.],\n",
       "       [0., 0., 0., 0., 0., 0., 0., 0., 0., 0., 0., 0., 0., 0., 0., 0.,\n",
       "        0., 0., 0., 0., 0., 0., 0., 0., 0., 0., 0., 0.],\n",
       "       [0., 0., 0., 0., 0., 0., 0., 0., 0., 0., 0., 0., 0., 0., 0., 0.,\n",
       "        0., 0., 0., 0., 0., 0., 0., 0., 0., 0., 0., 0.],\n",
       "       [0., 0., 0., 0., 0., 0., 0., 0., 0., 0., 0., 0., 0., 0., 0., 0.,\n",
       "        0., 0., 0., 0., 0., 0., 0., 0., 0., 0., 0., 0.],\n",
       "       [0., 0., 0., 0., 0., 0., 0., 0., 0., 0., 0., 0., 0., 0., 0., 0.,\n",
       "        0., 0., 0., 0., 0., 0., 0., 0., 0., 0., 0., 0.],\n",
       "       [0., 0., 0., 0., 0., 0., 0., 0., 0., 0., 0., 0., 0., 0., 0., 0.,\n",
       "        0., 0., 0., 0., 0., 0., 0., 0., 0., 0., 0., 0.],\n",
       "       [0., 0., 0., 0., 0., 0., 0., 0., 0., 0., 0., 0., 0., 0., 0., 0.,\n",
       "        0., 0., 0., 0., 0., 0., 0., 0., 0., 0., 0., 0.],\n",
       "       [0., 0., 0., 0., 0., 0., 0., 0., 0., 0., 0., 0., 0., 0., 0., 0.,\n",
       "        0., 0., 0., 0., 0., 0., 0., 0., 0., 0., 0., 0.],\n",
       "       [0., 0., 0., 0., 0., 0., 0., 0., 0., 0., 0., 0., 0., 0., 0., 0.,\n",
       "        0., 0., 0., 0., 0., 0., 0., 0., 0., 0., 0., 0.],\n",
       "       [0., 0., 0., 0., 0., 0., 0., 0., 0., 0., 0., 0., 0., 0., 0., 0.,\n",
       "        0., 0., 0., 0., 0., 0., 0., 0., 0., 0., 0., 0.],\n",
       "       [0., 0., 0., 0., 0., 0., 0., 0., 0., 0., 0., 0., 0., 0., 0., 0.,\n",
       "        0., 0., 0., 0., 0., 0., 0., 0., 0., 0., 0., 0.]])"
      ]
     },
     "execution_count": 728,
     "metadata": {},
     "output_type": "execute_result"
    }
   ],
   "source": [
    "discrete_div(mx.value,my.value,dx)-((cp.vstack([mx,row0])-cp.vstack([row0,mx])+cp.hstack([my,col0])-cp.hstack([col0,my])).value)/dx"
   ]
  },
  {
   "cell_type": "code",
   "execution_count": 727,
   "id": "37c46578-b761-4f3a-ae49-c6c1f8c2db4c",
   "metadata": {},
   "outputs": [
    {
     "data": {
      "text/plain": [
       "<matplotlib.image.AxesImage at 0x7f905ac418e0>"
      ]
     },
     "execution_count": 727,
     "metadata": {},
     "output_type": "execute_result"
    },
    {
     "data": {
      "image/png": "[encoded data removed]",
      "text/plain": [
       "<Figure size 432x288 with 1 Axes>"
      ]
     },
     "metadata": {
      "needs_background": "light"
     },
     "output_type": "display_data"
    }
   ],
   "source": [
    "plt.imshow(((cp.vstack([mx,row0])-cp.vstack([row0,mx])+cp.hstack([my,col0])-cp.hstack([col0,my])).value)/dx)"
   ]
  },
  {
   "cell_type": "code",
   "execution_count": 757,
   "id": "8c247b16-2ce0-4b46-8ae9-0f5cdded1794",
   "metadata": {},
   "outputs": [],
   "source": [
    "def project_onto_density(sigma, rho, gamma, epsilon=1e-16):\n",
    "    theta_min = -np.max(rho) + np.min(sigma)\n",
    "    theta_max = np.max(sigma)\n",
    "    theta_mid = None\n",
    "    while theta_max - theta_min >= epsilon:\n",
    "        theta_mid = (theta_max + theta_min) / 2\n",
    "        rho_t = np.minimum(np.maximum(sigma-theta_mid,0),rho)\n",
    "        if gamma < np.sum(rho_t):\n",
    "            theta_min = theta_mid\n",
    "        else:\n",
    "            theta_max = theta_mid\n",
    "    return np.minimum(np.maximum(sigma-theta_mid,0),rho)"
   ]
  },
  {
   "cell_type": "code",
   "execution_count": 762,
   "id": "114427ef-8f64-4452-a677-c0df3e875f57",
   "metadata": {},
   "outputs": [],
   "source": [
    "a = project_onto_density(p1/2, p1, 0.99999994/2)"
   ]
  },
  {
   "cell_type": "code",
   "execution_count": 764,
   "id": "cf074fdc-9346-4533-b2e3-0842c284f83a",
   "metadata": {},
   "outputs": [
    {
     "data": {
      "text/plain": [
       "5.9269007e-09"
      ]
     },
     "execution_count": 764,
     "metadata": {},
     "output_type": "execute_result"
    }
   ],
   "source": [
    "np.linalg.norm((a-p1/2).flatten())"
   ]
  },
  {
   "cell_type": "code",
   "execution_count": 784,
   "id": "e6b1282f-963f-4526-88dc-f1c040748d29",
   "metadata": {},
   "outputs": [],
   "source": [
    "def shrink2(X, Y, mu, n):\n",
    "    col0 = np.zeros((n,1))\n",
    "    row0 = np.zeros((1,n))\n",
    "    ghost = np.array([np.vstack((X, row0)), np.hstack((Y, col0))])\n",
    "    norms = np.linalg.norm(ghost, axis=0)\n",
    "    c = np.zeros_like(norms)\n",
    "    c[norms >= mu] = 1 - mu/norms[norms >= mu]\n",
    "#     c = np.maximum(1-mu/np.linalg.norm(ghost, axis=0),0)\n",
    "    y = ghost*c\n",
    "    return ghost, c, y[0,:-1,:], y[1,:,:-1]"
   ]
  },
  {
   "cell_type": "code",
   "execution_count": 785,
   "id": "5605818f-3db8-41a4-99d8-41501cc81b1e",
   "metadata": {},
   "outputs": [],
   "source": [
    "a, c, _, _ = shrink2(mx.value, my.value, 0.0042866941015089165, 28)"
   ]
  },
  {
   "cell_type": "code",
   "execution_count": 786,
   "id": "97426a45-a523-4266-bb7b-9fd003d6420e",
   "metadata": {},
   "outputs": [
    {
     "data": {
      "text/plain": [
       "(28, 28)"
      ]
     },
     "execution_count": 786,
     "metadata": {},
     "output_type": "execute_result"
    }
   ],
   "source": [
    "np.linalg.norm(a, axis=0).shape"
   ]
  },
  {
   "cell_type": "code",
   "execution_count": 811,
   "id": "7c0b4b1c-371c-415b-af6c-994795a7787a",
   "metadata": {},
   "outputs": [
    {
     "name": "stdout",
     "output_type": "stream",
     "text": [
      "[[0 0]\n",
      " [0 0]]\n"
     ]
    },
    {
     "name": "stderr",
     "output_type": "stream",
     "text": [
      "<ipython-input-811-22278f6bfea9>:5: RuntimeWarning: divide by zero encountered in true_divide\n",
      "  c = 1 - mu/norms\n"
     ]
    }
   ],
   "source": [
    "norms = np.array([[2, 2], [0, 2]])\n",
    "c = np.zeros_like(norms)\n",
    "print(c)\n",
    "mu = 0.5\n",
    "c = 1 - mu/norms"
   ]
  },
  {
   "cell_type": "code",
   "execution_count": 813,
   "id": "eaa818b1-1f5f-430d-8e58-8b64ad4479d6",
   "metadata": {},
   "outputs": [
    {
     "data": {
      "text/plain": [
       "array([[0.75, 0.75],\n",
       "       [0.  , 0.75]])"
      ]
     },
     "execution_count": 813,
     "metadata": {},
     "output_type": "execute_result"
    }
   ],
   "source": [
    "np.maximum(c,0)"
   ]
  },
  {
   "cell_type": "code",
   "execution_count": null,
   "id": "bc0ec30e-bdb2-40ff-8a5a-99d8749ce9e4",
   "metadata": {},
   "outputs": [],
   "source": []
  }
 ],
 "metadata": {
  "kernelspec": {
   "display_name": "Python 3",
   "language": "python",
   "name": "python3"
  },
  "language_info": {
   "codemirror_mode": {
    "name": "ipython",
    "version": 3
   },
   "file_extension": ".py",
   "mimetype": "text/x-python",
   "name": "python",
   "nbconvert_exporter": "python",
   "pygments_lexer": "ipython3",
   "version": "3.8.8"
  }
 },
 "nbformat": 4,
 "nbformat_minor": 5
}
