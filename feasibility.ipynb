{
 "cells": [
  {
   "cell_type": "code",
   "execution_count": 1,
   "id": "82694595-28c4-4e4a-99a6-3eb7d452c04c",
   "metadata": {},
   "outputs": [],
   "source": [
    "import cvxpy as cp\n",
    "import numpy as np\n",
    "import os\n",
    "import pandas as pd\n",
    "import matplotlib.pyplot as plt"
   ]
  },
  {
   "cell_type": "code",
   "execution_count": 3,
   "id": "911a2eb9-89f6-4358-b95e-17dd8c2dead0",
   "metadata": {},
   "outputs": [
    {
     "data": {
      "text/plain": [
       "<matplotlib.image.AxesImage at 0x7f90d2508d30>"
      ]
     },
     "execution_count": 3,
     "metadata": {},
     "output_type": "execute_result"
    },
    {
     "data": {
      "image/png": "[encoded data removed]",
      "text/plain": [
       "<Figure size 432x288 with 1 Axes>"
      ]
     },
     "metadata": {
      "needs_background": "light"
     },
     "output_type": "display_data"
    }
   ],
   "source": [
    "import gzip\n",
    "f = gzip.open('train-images-idx3-ubyte.gz','r')\n",
    "\n",
    "image_size = 28\n",
    "num_images = 100\n",
    "\n",
    "f.read(16)\n",
    "buf = f.read(image_size * image_size * num_images)\n",
    "data = np.frombuffer(buf, dtype=np.uint8).astype(np.float32)\n",
    "data = data.reshape(num_images, image_size, image_size, 1)\n",
    "image = np.asarray(data[4]).squeeze()\n",
    "plt.imshow(image)"
   ]
  },
  {
   "cell_type": "code",
   "execution_count": 6,
   "id": "a0d921a7-cc9e-4825-aea3-1e0d31bf4d79",
   "metadata": {},
   "outputs": [
    {
     "name": "stdout",
     "output_type": "stream",
     "text": [
      "1.0 0.8433788\n"
     ]
    }
   ],
   "source": [
    "# 3 and 8 are both 1s\n",
    "p1 = np.asarray(data[0]).squeeze()\n",
    "p0 = np.asarray(data[4]).squeeze()\n",
    "assert np.sum(p1) >= np.sum(p0)\n",
    "norm_factor = max(np.sum(p1), np.sum(p0))\n",
    "p1 = p1 / norm_factor\n",
    "p0 = p0 / norm_factor\n",
    "print(np.sum(p1), np.sum(p0))"
   ]
  },
  {
   "cell_type": "code",
   "execution_count": 50,
   "id": "df9d7531-b0d1-4bb9-871b-1617920fbbe6",
   "metadata": {},
   "outputs": [],
   "source": [
    "def get_feasible(n, dx, gamma, p0, p1):\n",
    "    mx = cp.Variable((n-1,n))\n",
    "    my = cp.Variable((n,n-1))\n",
    "    p0t = cp.Variable((n,n))\n",
    "    p1t = cp.Variable((n,n))\n",
    "    col0 = np.zeros((n,1))\n",
    "    row0 = np.zeros((1,n))\n",
    "\n",
    "    objective = cp.Minimize(1)\n",
    "\n",
    "    # Assumes that p1t has larger mass\n",
    "    constraints = [\n",
    "        dx*(p0t - p1t) == cp.vstack([mx,row0])-cp.vstack([row0,mx])+cp.hstack([my,col0])-cp.hstack([col0,my]),\n",
    "        p0t >= 0,\n",
    "        p0t <= p0,\n",
    "        p1t >= 0,\n",
    "        p1t <= p1,\n",
    "        cp.sum(p0t) == gamma,\n",
    "        cp.sum(p1t) == gamma,\n",
    "    ]\n",
    "    prob = cp.Problem(objective, constraints)\n",
    "    prob_val = prob.solve()\n",
    "    return mx, my, p0t, p1t"
   ]
  },
  {
   "cell_type": "code",
   "execution_count": 55,
   "id": "99598446-858c-42dc-9765-39eb6e5fbf8f",
   "metadata": {},
   "outputs": [],
   "source": [
    "a, b, c, d = get_feasible(28, 1/(n-1), 0.7, p0, p1)"
   ]
  },
  {
   "cell_type": "code",
   "execution_count": 52,
   "id": "e0e7515d-726c-48a1-a317-e5ee78b0b876",
   "metadata": {},
   "outputs": [
    {
     "data": {
      "text/plain": [
       "1.3557118344473928"
      ]
     },
     "execution_count": 52,
     "metadata": {},
     "output_type": "execute_result"
    }
   ],
   "source": [
    "cp.sum(cp.norm(cp.vstack([cp.vec(cp.hstack([b, col0])), cp.vec(cp.vstack([a, row0]))]),axis=0)).value"
   ]
  },
  {
   "cell_type": "code",
   "execution_count": 36,
   "id": "9c90ef07-ba72-4b66-801c-680c3e7adcb1",
   "metadata": {},
   "outputs": [
    {
     "data": {
      "text/plain": [
       "4.64156617827608e-17"
      ]
     },
     "execution_count": 36,
     "metadata": {},
     "output_type": "execute_result"
    }
   ],
   "source": [
    "cp.sum(cp.abs(dx*(p0t - p1t) -( cp.vstack([mx,row0])-cp.vstack([row0,mx])+cp.hstack([my,col0])-cp.hstack([col0,my])))).value"
   ]
  },
  {
   "cell_type": "markdown",
   "id": "61dbc033-6100-42bd-a034-fed9d160578e",
   "metadata": {},
   "source": [
    "## ScratcH"
   ]
  },
  {
   "cell_type": "code",
   "execution_count": 42,
   "id": "5bd54bcf-691b-4577-b13e-ef996165f93a",
   "metadata": {},
   "outputs": [
    {
     "name": "stdout",
     "output_type": "stream",
     "text": [
      "[[-0.07642363]\n",
      " [-0.07642363]\n",
      " [-0.07642363]\n",
      " [-0.07642363]\n",
      " [-0.07642363]\n",
      " [-0.07642363]\n",
      " [-0.07642363]\n",
      " [-0.07642363]\n",
      " [-0.07642363]]\n"
     ]
    }
   ],
   "source": [
    "n = 3\n",
    "div_matrix = np.zeros((n**2,2*n*(n-1)))\n",
    "ct = 0\n",
    "for i in range(n):\n",
    "    for j in range(n):\n",
    "        if i != n-1:\n",
    "            div_matrix[ct,i*n+j] = 1\n",
    "        if i != 0:\n",
    "            div_matrix[ct,(i-1)*n+j] = -1\n",
    "        if j != n-1:\n",
    "            div_matrix[ct,n*(n-1)+i*(n-1)+j] = 1\n",
    "        if j != 0:\n",
    "            div_matrix[ct,n*(n-1)+i*(n-1)+j-1] = -1\n",
    "        ct += 1  \n",
    "b = np.random.normal(size=(n**2,1))\n",
    "x = np.linalg.lstsq(div_matrix, b, rcond=None)[0]\n",
    "print(div_matrix@x-b)"
   ]
  },
  {
   "cell_type": "code",
   "execution_count": null,
   "id": "b01f386a-693e-4ee5-a0bf-8c352588a7ea",
   "metadata": {},
   "outputs": [],
   "source": []
  }
 ],
 "metadata": {
  "kernelspec": {
   "display_name": "Python 3",
   "language": "python",
   "name": "python3"
  },
  "language_info": {
   "codemirror_mode": {
    "name": "ipython",
    "version": 3
   },
   "file_extension": ".py",
   "mimetype": "text/x-python",
   "name": "python",
   "nbconvert_exporter": "python",
   "pygments_lexer": "ipython3",
   "version": "3.8.8"
  }
 },
 "nbformat": 4,
 "nbformat_minor": 5
}
