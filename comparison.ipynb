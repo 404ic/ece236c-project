{
 "cells": [
  {
   "cell_type": "code",
   "execution_count": 1,
   "id": "cc33799b-218e-4341-a688-c5435c1cd3e0",
   "metadata": {},
   "outputs": [],
   "source": [
    "import cvxpy as cp\n",
    "import numpy as np\n",
    "import os\n",
    "import pandas as pd\n",
    "import matplotlib.pyplot as plt\n",
    "import time"
   ]
  },
  {
   "cell_type": "code",
   "execution_count": 2,
   "id": "e74dda3d-188b-4c90-a34f-4a80af05f5b3",
   "metadata": {},
   "outputs": [],
   "source": [
    "class solve_PMK:\n",
    "    def __init__(self, rho0, rho1, n, gamma, tau):\n",
    "        self.rho0 = rho0 \n",
    "        self.rho1 = rho1\n",
    "        self.n = n\n",
    "        self.gamma = gamma\n",
    "        self.tau = tau\n",
    "        self.dx = 1/(n - 1)\n",
    "        self.nu = 1/(4*self.tau)\n",
    "        self.mu = 1/(32*(self.n - 1)**2*self.tau)\n",
    "        self.variables = ['m', 'rho0t', 'rho1t', 'Phi']\n",
    "        self.custom_data = {}\n",
    "        self.objectives = None\n",
    "        self.cvxpy_solution = None\n",
    "        self.custom_solution = None\n",
    "        self.Rs = []\n",
    "        assert np.sum(self.rho1) >= np.sum(self.rho0), \"rho0 has greater mass than rho1\"\n",
    "    \n",
    "    def solve_with_cvxpy(self):\n",
    "        n = self.n\n",
    "        dx = self.dx\n",
    "        p0 = self.rho0\n",
    "        p1 = self.rho1\n",
    "        gamma = self.gamma\n",
    "        \n",
    "        mx = cp.Variable((n-1,n))\n",
    "        my = cp.Variable((n,n-1))\n",
    "        p0t = cp.Variable((n,n))\n",
    "        p1t = cp.Variable((n,n))\n",
    "        col0 = np.zeros((n,1))\n",
    "        row0 = np.zeros((1,n))\n",
    "\n",
    "        objective = cp.Minimize(cp.sum(cp.norm(cp.vstack([cp.vec(cp.hstack([my, col0])), cp.vec(cp.vstack([mx, row0]))]),axis=0)))\n",
    "\n",
    "        # Assumes that p1t has larger mass\n",
    "        constraints = [\n",
    "            dx*(p0t - p1t) == cp.vstack([mx,row0])-cp.vstack([row0,mx])+cp.hstack([my,col0])-cp.hstack([col0,my]),\n",
    "            p0t >= 0,\n",
    "            p0t <= p0,\n",
    "            p1t >= 0,\n",
    "            p1t <= p1,\n",
    "            cp.sum(p0t) == gamma,\n",
    "            cp.sum(p1t) == gamma,\n",
    "        ]\n",
    "        prob = cp.Problem(objective, constraints)\n",
    "        prob_val = prob.solve()\n",
    "        self.cvxpy_solution = self.Solution(p0t.value, p1t.value, prob.solver_stats.solve_time, prob.solver_stats.num_iters, prob_val)\n",
    "    \n",
    "    def get_random_init(self):\n",
    "        n = self.n\n",
    "        mx = np.random.normal(size=(n-1,n))\n",
    "        my = np.random.normal(size=(n,n-1))\n",
    "        rho0t = np.random.normal(size=(n,n))\n",
    "        rho1t = np.random.normal(size=(n,n))\n",
    "        Phi = np.random.normal(size=(n,n))\n",
    "        return mx, my, rho0t, rho1t, Phi\n",
    "    \n",
    "    def get_feasible_init(self):\n",
    "        n = self.n\n",
    "        dx = self.dx\n",
    "        gamma = self.gamma\n",
    "        p0 = self.rho0\n",
    "        p1 = self.rho1\n",
    "        mx = cp.Variable((n-1,n))\n",
    "        my = cp.Variable((n,n-1))\n",
    "        p0t = cp.Variable((n,n))\n",
    "        p1t = cp.Variable((n,n))\n",
    "        col0 = np.zeros((n,1))\n",
    "        row0 = np.zeros((1,n))\n",
    "\n",
    "        objective = cp.Minimize(1)\n",
    "\n",
    "        # Assumes that p1t has larger mass\n",
    "        constraints = [\n",
    "            dx*(p0t - p1t) == cp.vstack([mx,row0])-cp.vstack([row0,mx])+cp.hstack([my,col0])-cp.hstack([col0,my]),\n",
    "            p0t >= 0,\n",
    "            p0t <= p0,\n",
    "            p1t >= 0,\n",
    "            p1t <= p1,\n",
    "            cp.sum(p0t) == gamma,\n",
    "            cp.sum(p1t) == gamma,\n",
    "        ]\n",
    "        prob = cp.Problem(objective, constraints)\n",
    "        prob_val = prob.solve()\n",
    "        return mx.value, my.value, p0t.value, p1t.value, np.random.normal(size=(n,n))\n",
    "    \n",
    "    def project_onto_density(self, sigma, rho, gamma, epsilon=1e-5):\n",
    "        theta_min = -np.max(rho) + np.min(sigma)\n",
    "        theta_max = np.max(sigma)\n",
    "        theta_mid = None\n",
    "        while theta_max - theta_min >= epsilon:\n",
    "            theta_mid = (theta_max + theta_min) / 2\n",
    "            rho_t = np.minimum(np.maximum(sigma-theta_mid,0),rho)\n",
    "            if gamma < np.sum(rho_t):\n",
    "                theta_min = theta_mid\n",
    "            else:\n",
    "                theta_max = theta_mid\n",
    "        return np.minimum(np.maximum(sigma-theta_mid,0),rho)\n",
    "\n",
    "    def discrete_gradient(self, Phi):\n",
    "        dx = self.dx\n",
    "        n = self.n\n",
    "        dPhi_x = (Phi[1:,:] - Phi[:-1,:]) / dx\n",
    "        dPhi_y = (Phi[:,1:] - Phi[:,:-1]) / dx\n",
    "        return dPhi_x, dPhi_y\n",
    "\n",
    "    def discrete_div(self, mx, my):\n",
    "        dx = self.dx\n",
    "        col0 = np.zeros((n,1))\n",
    "        row0 = np.zeros((1,n))\n",
    "        return (np.vstack((mx,row0))-np.vstack((row0,mx))+np.hstack((my,col0))-np.hstack((col0,my))) / dx\n",
    "\n",
    "    def shrink2(self, X, Y):\n",
    "        mu = self.mu\n",
    "        n = self.n\n",
    "        col0 = np.zeros((n,1))\n",
    "        row0 = np.zeros((1,n))\n",
    "        ghost = np.array([np.vstack((X, row0)), np.hstack((Y, col0))])\n",
    "        norms = np.linalg.norm(ghost, axis=0)\n",
    "        c = np.zeros_like(norms)\n",
    "        for i in range(n):\n",
    "            for j in range(n):\n",
    "                if norms[i,j] >= mu:\n",
    "                    c[i,j] = 1-mu/norms[i,j]\n",
    "        y = ghost*c\n",
    "        return y[0,:-1,:], y[1,:,:-1]\n",
    "\n",
    "    def objective(self, mx, my):\n",
    "        n = self.n\n",
    "        col0 = np.zeros((n,1))\n",
    "        row0 = np.zeros((1,n))\n",
    "        return np.sum(np.linalg.norm(np.vstack((np.hstack([my, col0]).reshape(1,-1), np.vstack([mx, row0]).reshape(1,-1))),axis=0))\n",
    "\n",
    "    def solve(self, random_init=True, eps=1e-11):\n",
    "        rho0 = self.rho0\n",
    "        rho1 = self.rho1\n",
    "        gamma = self.gamma\n",
    "        dx = self.dx\n",
    "        mu = self.mu\n",
    "        nu = self.nu\n",
    "        tau = self.tau\n",
    "        n = self.n\n",
    "        self.Rs = []\n",
    "        start = time.time()\n",
    "        mx, my, rho00_t, rho10_t, Phi0 = self.get_random_init()\n",
    "        if not random_init:\n",
    "            mx, my, rho00_t, rho10_t, Phi0 = self.get_feasible_init()\n",
    "        m_list = [(mx, my)]\n",
    "        rho0_t_list = [rho00_t]\n",
    "        rho1_t_list = [rho10_t]\n",
    "        Phi_list = [Phi0]\n",
    "        objectives = []\n",
    "        ct = 0\n",
    "        R = None\n",
    "        while True:\n",
    "            objectives.append(self.objective(m_list[-1][0], m_list[-1][1]))\n",
    "            if len(objectives) >= 2:\n",
    "                if ct % 1000 == 0:\n",
    "                    print(\"Iteration\", ct, \"Objective value is\", objectives[-1], \"and R is\", R)\n",
    "                if R < eps:\n",
    "                    print(\"Iteration\", ct, \"Converged with objective value\", objectives[-1])\n",
    "                    break\n",
    "            ct += 1\n",
    "            dPhi_x, dPhi_y = self.discrete_gradient(Phi_list[-1])\n",
    "            mx_next, my_next = self.shrink2(m_list[-1][0]+mu*dPhi_x, m_list[-1][1]+mu*dPhi_y)\n",
    "            rho0_t_next = self.project_onto_density(rho0_t_list[-1]+nu*Phi_list[-1], self.rho0, self.gamma)\n",
    "            rho1_t_next = self.project_onto_density(rho1_t_list[-1]-nu*Phi_list[-1], self.rho1, self.gamma)\n",
    "            Phi_next = Phi_list[-1] + tau*(\n",
    "                self.discrete_div(2*mx_next - m_list[-1][0], 2*my_next - m_list[-1][1])\n",
    "                 + 2*rho1_t_next - rho1_t_list[-1]\n",
    "                 - 2*rho0_t_next + rho0_t_list[-1]\n",
    "            )\n",
    "            R = (np.sum((mx_next-m_list[-1][0]).flatten()**2) \n",
    "                 + np.sum((my_next-m_list[-1][1]).flatten()**2))/mu\n",
    "            + (np.sum((rho0_t_next - rho0_t_list[-1]).flatten()**2)\n",
    "               + np.sum((rho1_t_next - rho1_t_list[-1]).flatten()**2))/nu\n",
    "            + np.sum((Phi_next - Phi_list[-1])**2)/tau\n",
    "            - 2*np.sum((Phi_next - Phi_list[-1])*(\n",
    "                self.discrete_div(mx_next-m_list[-1][0],my_next-m_list[-1][1])\n",
    "                + rho1_t_next - rho1_t_list[-1] - rho0_t_next + rho0_t_list[-1]\n",
    "            )\n",
    "                      )\n",
    "            m_list.append((mx_next, my_next))\n",
    "            rho0_t_list.append(rho0_t_next)\n",
    "            rho1_t_list.append(rho1_t_next)\n",
    "            Phi_list.append(Phi_next)\n",
    "            self.Rs.append(R)\n",
    "        end = time.time()\n",
    "        self.custom_data['m'] = m_list\n",
    "        self.custom_data['rho0t'] = rho0_t_list\n",
    "        self.custom_data['rho1t'] = rho1_t_list\n",
    "        self.custom_data['Phi'] = Phi_list\n",
    "        self.objectives = objectives\n",
    "        self.custom_solution = self.Solution(self.custom_data['rho0t'][-1], self.custom_data['rho1t'][-1], end-start, ct, self.objectives[-1])\n",
    "    \n",
    "    def compare_methods(self):\n",
    "        fig, ((ax0, ax1, ax2), (ax3, ax4, ax5)) = plt.subplots(2, 3, constrained_layout=True)\n",
    "        fig.set_size_inches(9, 6)\n",
    "        ax0.imshow(self.rho0)\n",
    "        ax3.imshow(self.rho1)\n",
    "        ax1.imshow(self.cvxpy_solution.rho0t)\n",
    "        ax4.imshow(self.cvxpy_solution.rho1t)\n",
    "        ax2.imshow(self.custom_solution.rho0t)\n",
    "        ax5.imshow(self.custom_solution.rho1t)\n",
    "        ax0.title.set_text(r\"$\\rho_0$\")\n",
    "        ax3.title.set_text(r\"$\\rho_1$\")\n",
    "        ax1.title.set_text(r\"$\\tilde{\\rho_0}$ from CVXPY\")\n",
    "        ax4.title.set_text(r\"$\\tilde{\\rho_1}$ from CVXPY\")\n",
    "        ax2.title.set_text(r\"$\\tilde{\\rho_0}$ from Chambolle-Pock\")\n",
    "        ax5.title.set_text(r\"$\\tilde{\\rho_1}$ from Chambolle-Pock\")\n",
    "        ax0.set_axis_off()\n",
    "        ax1.set_axis_off()\n",
    "        ax2.set_axis_off()\n",
    "        ax3.set_axis_off()\n",
    "        ax4.set_axis_off()\n",
    "        ax5.set_axis_off()\n",
    "        print(f\"CVXPY obtained value {self.cvxpy_solution.objective:.6f} and used {self.cvxpy_solution.solve_time:.6f}s and {self.cvxpy_solution.num_iters} iterations, with each iteration taking {self.cvxpy_solution.time_per_iter():.6f}s\")\n",
    "        print(f\"Chambolle-Pock obtained value {self.custom_solution.objective:.6f} and used {self.custom_solution.solve_time:.6f}s and {self.custom_solution.num_iters} iterations, with each iteration taking {self.custom_solution.time_per_iter():.6f}s\")\n",
    "        \n",
    "    def custom_methods(self):\n",
    "        fig, ((ax0, ax1), (ax2, ax3)) = plt.subplots(2, 2, constrained_layout=True)\n",
    "        fig.set_size_inches(8, 8)\n",
    "        ax0.imshow(self.rho0)\n",
    "        ax2.imshow(self.rho1)\n",
    "        ax1.imshow(self.custom_solution.rho0t)\n",
    "        ax3.imshow(self.custom_solution.rho1t)\n",
    "        ax0.title.set_text(r\"$\\rho_0$\")\n",
    "        ax2.title.set_text(r\"$\\rho_1$\")\n",
    "        ax1.title.set_text(r\"$\\tilde{\\rho_0}$ from Chambolle-Pock\")\n",
    "        ax3.title.set_text(r\"$\\tilde{\\rho_1}$ from Chambolle-Pock\")\n",
    "        ax0.set_axis_off()\n",
    "        ax1.set_axis_off()\n",
    "        ax2.set_axis_off()\n",
    "        ax3.set_axis_off()\n",
    "        print(f\"Chambolle-Pock obtained value {self.custom_solution.objective:.6f} and used {self.custom_solution.solve_time:.6f}s and {self.custom_solution.num_iters} iterations, with each iteration taking {self.custom_solution.time_per_iter():.6f}s\")\n",
    "    \n",
    "    def custom_stats(self):\n",
    "        fig, (ax1, ax2, ax3) = plt.subplots(1, 3, sharex='row', constrained_layout=True)\n",
    "        fig.set_size_inches(10, 4)\n",
    "        m = self.custom_data['m']\n",
    "        rho0t = self.custom_data['rho0t']\n",
    "        rho1t = self.custom_data['rho1t']\n",
    "        dx = self.dx\n",
    "        res = (np.array([np.sum(np.abs((rho0t[i]-rho1t[i])-self.discrete_div(m[i][0],m[i][1]))) for i in range(len(rho0t))]))[len(self.objectives)//10+5000:]\n",
    "        ax1.plot(self.objectives[len(self.objectives)//10+5000:])\n",
    "        ax2.plot(res)\n",
    "        ax3.plot(self.Rs[len(self.objectives)//10+5000:])\n",
    "        ax1.title.set_text('Objective function')\n",
    "        ax2.title.set_text('Divergence constraint residual')\n",
    "        ax3.title.set_text('Termination criterion')\n",
    "        fig.suptitle(\"Chambolle-Pock Solver Data\")\n",
    "    \n",
    "    class Solution:\n",
    "        def __init__(self, rho0t, rho1t, solve_time, num_iters, objective):\n",
    "            self.rho0t = rho0t\n",
    "            self.rho1t = rho1t\n",
    "            self.solve_time = solve_time\n",
    "            self.num_iters = num_iters\n",
    "            self.objective = objective\n",
    "        \n",
    "        def time_per_iter(self):\n",
    "            return self.solve_time/self.num_iters\n",
    "        "
   ]
  },
  {
   "cell_type": "code",
   "execution_count": 3,
   "id": "184cc181-0380-4dd4-ac68-a7e7c4b08d25",
   "metadata": {},
   "outputs": [
    {
     "data": {
      "text/plain": [
       "<matplotlib.image.AxesImage at 0x7f995ac64d00>"
      ]
     },
     "execution_count": 3,
     "metadata": {},
     "output_type": "execute_result"
    },
    {
     "data": {
      "image/png": "[encoded data removed]",
      "text/plain": [
       "<Figure size 432x288 with 1 Axes>"
      ]
     },
     "metadata": {
      "needs_background": "light"
     },
     "output_type": "display_data"
    }
   ],
   "source": [
    "import gzip\n",
    "f = gzip.open('train-images-idx3-ubyte.gz','r')\n",
    "\n",
    "image_size = 28\n",
    "num_images = 100\n",
    "\n",
    "f.read(16)\n",
    "buf = f.read(image_size * image_size * num_images)\n",
    "data = np.frombuffer(buf, dtype=np.uint8).astype(np.float32)\n",
    "data = data.reshape(num_images, image_size, image_size, 1)\n",
    "image = np.asarray(data[16]).squeeze()\n",
    "plt.imshow(image)"
   ]
  },
  {
   "cell_type": "code",
   "execution_count": 4,
   "id": "6808d862-b109-4af7-b275-9f79e539ee4b",
   "metadata": {},
   "outputs": [
    {
     "name": "stdout",
     "output_type": "stream",
     "text": [
      "1.0 0.8433788\n"
     ]
    }
   ],
   "source": [
    "rho1 = np.asarray(data[0]).squeeze()\n",
    "rho0 = np.asarray(data[4]).squeeze()\n",
    "assert np.sum(rho1) >= np.sum(rho0)\n",
    "norm_factor = max(np.sum(rho1), np.sum(rho0))\n",
    "rho1 = rho1 / norm_factor\n",
    "rho0 = rho0 / norm_factor\n",
    "print(np.sum(rho1), np.sum(rho0))"
   ]
  },
  {
   "cell_type": "code",
   "execution_count": 3,
   "id": "69f9717a-e4d4-47a4-9f34-c2c555f57db9",
   "metadata": {},
   "outputs": [],
   "source": [
    "n = 100\n",
    "tau = 1e-2\n",
    "gamma = 0.6"
   ]
  },
  {
   "cell_type": "code",
   "execution_count": 5,
   "id": "a7fb2e25-a59c-40d5-a78d-da40e6625eaf",
   "metadata": {},
   "outputs": [],
   "source": [
    "n=28\n",
    "tau=1e-2\n",
    "gamma=0.7"
   ]
  },
  {
   "cell_type": "code",
   "execution_count": 4,
   "id": "6e28aa94-b041-4487-bfbe-06069232343e",
   "metadata": {},
   "outputs": [
    {
     "name": "stdout",
     "output_type": "stream",
     "text": [
      "1.0 0.7192864501865741\n"
     ]
    }
   ],
   "source": [
    "import imageio\n",
    "rho0 = np.pad(255-np.asarray(imageio.imread('2.png')),((5,4),(17,18)))\n",
    "rho1 = np.pad(255-np.asarray(imageio.imread('30.png')),((4,3),(6,6)))\n",
    "\n",
    "assert np.sum(rho1) >= np.sum(rho0)\n",
    "norm_factor = max(np.sum(rho1), np.sum(rho0))\n",
    "rho1 = rho1 / norm_factor\n",
    "rho0 = rho0 / norm_factor\n",
    "print(np.sum(rho1), np.sum(rho0))"
   ]
  },
  {
   "cell_type": "code",
   "execution_count": 11,
   "id": "cbc860c8-0d60-40cd-9891-ce3516d42399",
   "metadata": {},
   "outputs": [],
   "source": [
    "solver = solve_PMK(rho0, rho1, n, gamma, tau)"
   ]
  },
  {
   "cell_type": "code",
   "execution_count": 27,
   "id": "7abe53b0-24dd-4883-bca5-391041df87ae",
   "metadata": {},
   "outputs": [
    {
     "name": "stdout",
     "output_type": "stream",
     "text": [
      "Iteration 1000 Objective value is 0.01678672742512674 and R is 3.850592240849489e-07\n",
      "Iteration 2000 Objective value is 0.029876618414978802 and R is 5.705845324241523e-08\n",
      "Iteration 3000 Objective value is 0.035425723750436525 and R is 4.7342309043817786e-08\n",
      "Iteration 4000 Objective value is 0.03909940863177126 and R is 3.871219549536647e-08\n",
      "Iteration 5000 Objective value is 0.04018019797594723 and R is 3.5768802256979894e-08\n",
      "Iteration 6000 Objective value is 0.041438978020098584 and R is 1.513733757201398e-08\n",
      "Iteration 7000 Objective value is 0.042263945287046314 and R is 5.433201392885193e-09\n",
      "Iteration 8000 Objective value is 0.04372009381812196 and R is 2.5356577774588114e-09\n",
      "Iteration 9000 Objective value is 0.04425572963201874 and R is 8.462342638784114e-10\n",
      "Iteration 10000 Objective value is 0.04446482649490202 and R is 1.1297851851659198e-08\n",
      "Iteration 11000 Objective value is 0.044855008020339544 and R is 9.008079696368135e-10\n",
      "Iteration 12000 Objective value is 0.04467422354337839 and R is 3.948883402408301e-10\n",
      "Iteration 13000 Objective value is 0.04487819196792653 and R is 1.3592222646590163e-10\n",
      "Iteration 14000 Objective value is 0.04505095176785914 and R is 2.7060151827109622e-11\n",
      "Iteration 15000 Objective value is 0.045341243214454555 and R is 1.2181749155558352e-09\n",
      "Iteration 16000 Objective value is 0.04540813935990608 and R is 1.3697608469955292e-10\n",
      "Iteration 17000 Objective value is 0.04547197996162072 and R is 1.381922827019795e-11\n",
      "Iteration 18000 Objective value is 0.045554725008935384 and R is 4.615229832112898e-12\n",
      "Iteration 18044 Converged with objective value 0.045551310435587536\n"
     ]
    }
   ],
   "source": [
    "solver.solve(random_init=True,eps=1e-12)"
   ]
  },
  {
   "cell_type": "code",
   "execution_count": 33,
   "id": "cde50705-59a3-4574-b30e-f79cc1dd82d5",
   "metadata": {},
   "outputs": [],
   "source": [
    "solver.solve_with_cvxpy()"
   ]
  },
  {
   "cell_type": "code",
   "execution_count": 34,
   "id": "d4123e93-cc0b-4cd7-a6f1-2930d388cfac",
   "metadata": {},
   "outputs": [
    {
     "name": "stdout",
     "output_type": "stream",
     "text": [
      "CVXPY obtained value 0.046339 and used 0.166607s and 58 iterations, with each iteration taking 0.002873s\n",
      "Chambolle-Pock obtained value 0.045551 and used 18.100947s and 18044 iterations, with each iteration taking 0.001003s\n"
     ]
    },
    {
     "data": {
      "image/png": "[encoded data removed]",
      "text/plain": [
       "<Figure size 648x432 with 6 Axes>"
      ]
     },
     "metadata": {
      "needs_background": "light"
     },
     "output_type": "display_data"
    }
   ],
   "source": [
    "solver.compare_methods()"
   ]
  },
  {
   "cell_type": "code",
   "execution_count": 35,
   "id": "bf287646-13bb-490a-b958-4afc0887f023",
   "metadata": {},
   "outputs": [
    {
     "data": {
      "image/png": "[encoded data removed]",
      "text/plain": [
       "<Figure size 720x288 with 3 Axes>"
      ]
     },
     "metadata": {
      "needs_background": "light"
     },
     "output_type": "display_data"
    }
   ],
   "source": [
    "solver.custom_stats()"
   ]
  }
 ],
 "metadata": {
  "kernelspec": {
   "display_name": "Python 3",
   "language": "python",
   "name": "python3"
  },
  "language_info": {
   "codemirror_mode": {
    "name": "ipython",
    "version": 3
   },
   "file_extension": ".py",
   "mimetype": "text/x-python",
   "name": "python",
   "nbconvert_exporter": "python",
   "pygments_lexer": "ipython3",
   "version": "3.8.8"
  }
 },
 "nbformat": 4,
 "nbformat_minor": 5
}
